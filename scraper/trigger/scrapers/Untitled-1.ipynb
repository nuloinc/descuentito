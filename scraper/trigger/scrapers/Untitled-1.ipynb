{
 "cells": [
  {
   "cell_type": "code",
   "execution_count": 3,
   "metadata": {},
   "outputs": [
    {
     "name": "stdout",
     "output_type": "stream",
     "text": [
      "[\n",
      "  {\n",
      "    discount: { type: \"cuotas sin intereses\", value: 3 },\n",
      "    validFrom: \"2024-09-05\",\n",
      "    validUntil: \"2025-05-31\",\n",
      "    restrictions: [\n",
      "      \"Promoción válida únicamente en los comercios adheridos y en productos seleccionados.\",\n",
      "      \"Dicha promoción no es acumulable con otras promociones vigentes.\",\n",
      "      \"No aplica para compras realizadas con Tarjetas de Crédito VISA Business, VISA Rural y Tarjetas de Débito.\",\n",
      "      \"La promoción no aplica a pagos a través de billeteras virtuales (excepto MODO, Google Pay y Apple Pay), MPOS y/o plataformas de pago online.\",\n",
      "      \"Sólo podrán participar de la promoción aquellos clientes que al momento de comprar se encuentren al día con sus productos.\"\n",
      "    ],\n",
      "    paymentMethods: [\n",
      "      [ \"Tarjeta de crédito VISA\" ],\n",
      "      [ \"Tarjeta de crédito Mastercard\" ]\n",
      "    ],\n",
      "    paymentRails: { pagoConQR: false, telefonoContactless: true, contactless: true },\n",
      "    unknownPaymentMethods: [],\n",
      "    limits: { explicitlyHasNoLimit: true },\n",
      "    where: [ \"Dia\", \"Online\" ],\n",
      "    source: \"dia\",\n",
      "    url: \"https://diaonline.supermercadosdia.com.ar/medios-de-pago-y-promociones\"\n",
      "  }\n",
      "]\n"
     ]
    }
   ],
   "source": [
    "import { extractDiaDiscounts } from \"./dia.ts\";\n",
    "\n",
    "const discounts = await extractDiaDiscounts([\n",
    "  {\n",
    "    domDescription:\n",
    "      '<div><div><p> \"APLICA TIENDA\"<p> \"APLICA ONLINE\"<img src=\"https://diaio.vtexassets.com/assets/vtex.file-manager-graphql/images/9a478ba3-e927-4917-adb0-eb63dc3b1ca6___c3bb23aec09ba4394aee67c824222aa2.jpg\" class=\"diaio-custom-bank-promotions-0-x-list-by-days__img-logo\"><h3> \"3 cuotas sin interés\"<p> \"Pagando con Visa y Mastercard\"<p> \"Del 05/09/2024 al 30/09/2025\"<div><button> \"Ver Legales\"',\n",
    "    legalesText:\n",
    "      'CARTERA DE CONSUMO. TASA NOMINAL ANUAL, EN ADELANTE \"TNA\": 0,00%, TASA EFECTIVA ANUAL, EN ADELANTE \"TEA\": 0,00%, COSTO FINANCIERO TOTAL EFECTIVO ANUAL, EN ADELANTE \"CFTEA\": 0,00%.\"CFTEA\"+IVA: 0,00%. PROMOCIÓN DE HASTA 3 CUOTAS SIN INTERÉS EN EL PRECIO DE CONTADO, PARA COMPRAS REALIZADAS EN EL PAÍS. VÁLIDA PARA LOS DÍAS COMPRENDIDOS ENTRE EL 05/09/2024 Y EL 31/05/2025, PARA COMPRAS REALIZADAS CON TARJETA VISA, TARJETA MASTERCARD. PROMOCIÓN VALIDA ÚNICAMENTE EN LOS COMERCIOS ADHERIDOS Y EN PRODUCTOS SELECCIONADOS. DICHA PROMOCIÓN NO ES ACUMULABLE CON OTRAS PROMOCIONES VIGENTES. EJEMPLO: UNA COMPRA DE $1000 Y SE PAGA EN 3 CUOTAS: EL VALOR DE CADA CUOTA SERÁ DE $333.33. NO APLICA PARA COMPRAS REALIZADAS CON TARJETAS DE CREDITO VISA BUSINESS, VISA RURAL Y TARJETAS DE DÉBITO. LA PROMOCIÓN NO APLICA A PAGOS A TRAVÉS DE BILLETERAS VIRTUALES (EXCEPTO MODO, GOOGLE PAY Y APPLE PAY), MPOS Y/O PLATAFORMAS DE PAGO ONLINE. SÓLO PODRÁN PARTICIPAR DE LA PROMOCIÓN AQUELLOS CLIENTES QUE AL MOMENTO DE COMPRAR SE ENCUENTREN AL DÍA CON SUS PRODUCTOS. BANCO GALICIA SOLO ES EL MEDIO DE PAGO PARA LA ADQUISICIÓN DEL PRODUCTO/SERVICIO. TASA NOMINAL ANUAL \"TNA\": 0,00%, TASA EFECTIVA ANUAL \"TEA\": 0,00%, COSTO FINANCIERO TOTAL EFECTIVO ANUAL \"CFTEA\": 0,00%.\"CFTEA\"+IVA: 0,00%.',\n",
    "  },\n",
    "]);\n",
    "\n",
    "console.log(discounts);"
   ]
  }
 ],
 "metadata": {
  "kernelspec": {
   "display_name": "Deno",
   "language": "typescript",
   "name": "deno"
  },
  "language_info": {
   "codemirror_mode": "typescript",
   "file_extension": ".ts",
   "mimetype": "text/x.typescript",
   "name": "typescript",
   "nbconvert_exporter": "script",
   "pygments_lexer": "typescript",
   "version": "5.7.3"
  }
 },
 "nbformat": 4,
 "nbformat_minor": 2
}
